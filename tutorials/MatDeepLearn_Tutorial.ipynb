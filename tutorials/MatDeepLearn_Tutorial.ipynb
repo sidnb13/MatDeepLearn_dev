{
 "nbformat": 4,
 "nbformat_minor": 0,
 "metadata": {
  "colab": {
   "provenance": [],
   "toc_visible": true
  },
  "kernelspec": {
   "name": "python3",
   "display_name": "Python 3"
  },
  "language_info": {
   "name": "python"
  },
  "accelerator": "GPU",
  "gpuClass": "standard"
 },
 "cells": [
  {
   "cell_type": "markdown",
   "source": [
    "## **Installation**"
   ],
   "metadata": {
    "id": "8wHTK_7IjIEg"
   }
  },
  {
   "cell_type": "markdown",
   "source": [
    "### Runtime"
   ],
   "metadata": {
    "id": "F8tZmlwFULDJ"
   }
  },
  {
   "cell_type": "markdown",
   "source": [
    "For the purpose of the demo, we recommend you use GPU on Google Colab, although it is not required. Google Colab provides access to 1 GPU (Runtime -> Change runtime type -> select GPU)."
   ],
   "metadata": {
    "id": "uhMUkc1GUQ47"
   }
  },
  {
   "cell_type": "markdown",
   "source": [
    "### Conda Set-Up"
   ],
   "metadata": {
    "id": "ORdt6Y_RLkoQ"
   }
  },
  {
   "cell_type": "markdown",
   "source": [
    "Install Miniconda"
   ],
   "metadata": {
    "id": "ByMwCMb1Q4YH"
   }
  },
  {
   "cell_type": "code",
   "source": [
    "!pip install -q condacolab\n",
    "import condacolab\n",
    "condacolab.install_miniconda()\n",
    "condacolab.check()\n",
    "!conda --version"
   ],
   "metadata": {
    "colab": {
     "base_uri": "https://localhost:8080/"
    },
    "id": "e4zLfG1YLf8R",
    "outputId": "b11fa174-8a34-4fe9-d4de-3aea4822c783"
   },
   "execution_count": 7,
   "outputs": [
    {
     "output_type": "stream",
     "name": "stdout",
     "text": [
      "⏬ Downloading https://repo.anaconda.com/miniconda/Miniconda3-py38_4.12.0-Linux-x86_64.sh...\n",
      "📦 Installing...\n",
      "📌 Adjusting configuration...\n",
      "🩹 Patching environment...\n",
      "⏲ Done in 0:00:21\n",
      "🔁 Restarting kernel...\n"
     ]
    }
   ]
  },
  {
   "cell_type": "markdown",
   "source": [
    "### MatDeepLearn Set-Up"
   ],
   "metadata": {
    "id": "byczXMtRQ7nj"
   }
  },
  {
   "cell_type": "code",
   "execution_count": 6,
   "metadata": {
    "colab": {
     "base_uri": "https://localhost:8080/"
    },
    "id": "dGOPmwSdi_ca",
    "outputId": "1b475b21-c23c-4ecd-831b-d98403a6a261"
   },
   "outputs": [
    {
     "output_type": "stream",
     "name": "stdout",
     "text": [
      "Looking in indexes: https://pypi.org/simple, https://us-python.pkg.dev/colab-wheels/public/simple/\n",
      "Collecting conda-merge\n",
      "  Using cached conda_merge-0.2.0-py3-none-any.whl\n",
      "Collecting pyyaml\n",
      "  Downloading PyYAML-6.0-cp38-cp38-manylinux_2_5_x86_64.manylinux1_x86_64.manylinux_2_12_x86_64.manylinux2010_x86_64.whl (701 kB)\n",
      "\u001B[K     |████████████████████████████████| 701 kB 5.2 MB/s \n",
      "\u001B[?25hInstalling collected packages: pyyaml, conda-merge\n",
      "Successfully installed conda-merge-0.2.0 pyyaml-6.0\n",
      "\u001B[33mWARNING: Running pip as the 'root' user can result in broken permissions and conflicting behaviour with the system package manager. It is recommended to use a virtual environment instead: https://pip.pypa.io/warnings/venv\u001B[0m\n"
     ]
    }
   ],
   "source": [
    "!pip install conda-merge"
   ]
  },
  {
   "cell_type": "markdown",
   "source": [
    "Clone MatDeepLearn"
   ],
   "metadata": {
    "id": "x61oTV8oRbAA"
   }
  },
  {
   "cell_type": "code",
   "source": [
    "# 1. Download the repo and set it as the current directory\n",
    "!git clone https://github.com/Fung-Lab/MatDeepLearn_dev\n",
    "%cd MatDeepLearn_dev"
   ],
   "metadata": {
    "colab": {
     "base_uri": "https://localhost:8080/"
    },
    "id": "W260O-Twlmjw",
    "outputId": "a530615d-b8c7-4511-d8d6-51f0ee58f690"
   },
   "execution_count": 3,
   "outputs": [
    {
     "output_type": "stream",
     "name": "stdout",
     "text": [
      "Cloning into 'MatDeepLearn'...\n",
      "remote: Enumerating objects: 218, done.\u001B[K\n",
      "remote: Counting objects: 100% (26/26), done.\u001B[K\n",
      "remote: Compressing objects: 100% (22/22), done.\u001B[K\n",
      "remote: Total 218 (delta 9), reused 12 (delta 4), pack-reused 192\u001B[K\n",
      "Receiving objects: 100% (218/218), 26.13 MiB | 35.21 MiB/s, done.\n",
      "Resolving deltas: 100% (82/82), done.\n",
      "[Errno 2] No such file or directory: 'MatDeepLearn_dev'\n",
      "/content\n"
     ]
    }
   ]
  },
  {
   "cell_type": "markdown",
   "source": [
    "Merge the imports"
   ],
   "metadata": {
    "id": "lfdcDD-xmT9g"
   }
  },
  {
   "cell_type": "code",
   "source": [
    "!conda-merge env.common.yaml env.gpu.yaml > env.yaml\n",
    "!conda env create -f env.yaml"
   ],
   "metadata": {
    "id": "UfFf9taAjCfw"
   },
   "execution_count": null,
   "outputs": []
  },
  {
   "cell_type": "markdown",
   "source": [
    "Install the package"
   ],
   "metadata": {
    "id": "slpMHtdomRyp"
   }
  },
  {
   "cell_type": "code",
   "source": [
    "!pip install -e ."
   ],
   "metadata": {
    "id": "M_w-B43wmP8L"
   },
   "execution_count": null,
   "outputs": []
  },
  {
   "cell_type": "markdown",
   "source": [],
   "metadata": {
    "id": "LJ7bG8gNqdUb"
   }
  },
  {
   "cell_type": "markdown",
   "source": [
    "**Run model training with test data**\n"
   ],
   "metadata": {
    "id": "c0IoRVFsmbmT"
   }
  },
  {
   "cell_type": "code",
   "source": [
    "!python scripts/main.py --run_mode train --config_path configs/configs.yaml"
   ],
   "metadata": {
    "id": "QZ1gMkhLmiFV"
   },
   "execution_count": null,
   "outputs": []
  },
  {
   "cell_type": "markdown",
   "source": [
    "Data processing"
   ],
   "metadata": {
    "id": "DBq95BAyqhAq"
   }
  }
 ]
}
